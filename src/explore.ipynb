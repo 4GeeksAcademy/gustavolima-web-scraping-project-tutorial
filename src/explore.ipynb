{
    "cells": [
        {
            "attachments": {},
            "cell_type": "markdown",
            "metadata": {},
            "source": [
                "# Explore here\n"
            ]
        },
        {
            "cell_type": "code",
            "execution_count": 2,
            "metadata": {},
            "outputs": [],
            "source": [
                "import requests\n",
                "import time\n",
                "import pandas as pd\n",
                "from bs4 import BeautifulSoup\n",
                "\n"
            ]
        },
        {
            "cell_type": "code",
            "execution_count": 58,
            "metadata": {},
            "outputs": [],
            "source": [
                "# url = \"https://www.macrotrends.net/stocks/charts/TSLA/tesla/revenue\"\n",
                "# html_data = requests.get(url, time.sleep(10))"
            ]
        },
        {
            "attachments": {},
            "cell_type": "markdown",
            "metadata": {},
            "source": [
                "### Find Tables, Convert to DataFrame, Clean the DF"
            ]
        },
        {
            "cell_type": "code",
            "execution_count": 3,
            "metadata": {},
            "outputs": [
                {
                    "name": "stdout",
                    "output_type": "stream",
                    "text": [
                        "          Date  Revenue\n",
                        "0   2022-03-31    18756\n",
                        "1   2021-12-31    17719\n",
                        "2   2021-09-30    13757\n",
                        "3   2021-06-30    11958\n",
                        "4   2021-03-31    10389\n",
                        "5   2020-12-31    10744\n",
                        "6   2020-09-30     8771\n",
                        "7   2020-06-30     6036\n",
                        "8   2020-03-31     5985\n",
                        "9   2019-12-31     7384\n",
                        "10  2019-09-30     6303\n",
                        "11  2019-06-30     6350\n",
                        "12  2019-03-31     4541\n",
                        "13  2018-12-31     7226\n",
                        "14  2018-09-30     6824\n",
                        "15  2018-06-30     4002\n",
                        "16  2018-03-31     3409\n",
                        "17  2017-12-31     3288\n",
                        "18  2017-09-30     2985\n",
                        "19  2017-06-30     2790\n",
                        "20  2017-03-31     2696\n",
                        "21  2016-12-31     2285\n",
                        "22  2016-09-30     2298\n",
                        "23  2016-06-30     1270\n",
                        "24  2016-03-31     1147\n",
                        "25  2015-12-31     1214\n",
                        "26  2015-09-30      937\n",
                        "27  2015-06-30      955\n",
                        "28  2015-03-31      940\n",
                        "29  2014-12-31      957\n",
                        "30  2014-09-30      852\n",
                        "31  2014-06-30      769\n",
                        "32  2014-03-31      621\n",
                        "33  2013-12-31      615\n",
                        "34  2013-09-30      431\n",
                        "35  2013-06-30      405\n",
                        "36  2013-03-31      562\n",
                        "37  2012-12-31      306\n",
                        "38  2012-09-30       50\n",
                        "39  2012-06-30       27\n",
                        "40  2012-03-31       30\n",
                        "41  2011-12-31       39\n",
                        "42  2011-09-30       58\n",
                        "43  2011-06-30       58\n",
                        "44  2011-03-31       49\n",
                        "45  2010-12-31       36\n",
                        "46  2010-09-30       31\n",
                        "47  2010-06-30       28\n",
                        "48  2010-03-31       21\n",
                        "49  2009-09-30       46\n",
                        "50  2009-06-30       27\n"
                    ]
                }
            ],
            "source": [
                "soup = BeautifulSoup(open('/workspaces/gustavolima-web-scraping-project-tutorial/src/list.html'), \"html\")\n",
                "tables = soup.find_all(\"table\")\n",
                "\n",
                "# Convert the table element to a string\n",
                "table_html = str(tables)\n",
                "\n",
                "# Read the HTML content using pandas\n",
                "tesla_revenue = pd.read_html(table_html)[0]\n",
                "\n",
                "# Remove the \"Unnamed\" column if present\n",
                "tesla_revenue = tesla_revenue.loc[:, ~tesla_revenue.columns.str.startswith('Unnamed')]\n",
                "\n",
                "# Rename the columns\n",
                "tesla_revenue = tesla_revenue.rename(columns={\"Tesla Quarterly Revenue(Millions of US $)\": \"Date\", \"Tesla Quarterly Revenue(Millions of US $).1\": \"Revenue\"})\n",
                "tesla_revenue['Revenue'] = tesla_revenue['Revenue'].replace(\",\", '').replace('$', '')\n",
                "\n",
                "# Drop rows with NaN values\n",
                "tesla_revenue = tesla_revenue.dropna()\n",
                "\n",
                "# Display\n",
                "print(tesla_revenue)"
            ]
        },
        {
            "attachments": {},
            "cell_type": "markdown",
            "metadata": {},
            "source": [
                "### Check the Data Types to be able to create a SQL DB"
            ]
        },
        {
            "cell_type": "code",
            "execution_count": 4,
            "metadata": {},
            "outputs": [
                {
                    "data": {
                        "text/plain": [
                            "Date       object\n",
                            "Revenue    object\n",
                            "dtype: object"
                        ]
                    },
                    "execution_count": 4,
                    "metadata": {},
                    "output_type": "execute_result"
                }
            ],
            "source": [
                "type(tesla_revenue)\n",
                "\n",
                "tesla_revenue['Revenue'] = tesla_revenue['Revenue'].astype(str)\n",
                "tesla_revenue.dtypes"
            ]
        },
        {
            "attachments": {},
            "cell_type": "markdown",
            "metadata": {},
            "source": [
                "### Transform the DF into a Tuples List for SQL"
            ]
        },
        {
            "cell_type": "code",
            "execution_count": 5,
            "metadata": {},
            "outputs": [
                {
                    "data": {
                        "text/plain": [
                            "[('2022-03-31', '18756'),\n",
                            " ('2021-12-31', '17719'),\n",
                            " ('2021-09-30', '13757'),\n",
                            " ('2021-06-30', '11958'),\n",
                            " ('2021-03-31', '10389'),\n",
                            " ('2020-12-31', '10744'),\n",
                            " ('2020-09-30', '8771'),\n",
                            " ('2020-06-30', '6036'),\n",
                            " ('2020-03-31', '5985'),\n",
                            " ('2019-12-31', '7384'),\n",
                            " ('2019-09-30', '6303'),\n",
                            " ('2019-06-30', '6350'),\n",
                            " ('2019-03-31', '4541'),\n",
                            " ('2018-12-31', '7226'),\n",
                            " ('2018-09-30', '6824'),\n",
                            " ('2018-06-30', '4002'),\n",
                            " ('2018-03-31', '3409'),\n",
                            " ('2017-12-31', '3288'),\n",
                            " ('2017-09-30', '2985'),\n",
                            " ('2017-06-30', '2790'),\n",
                            " ('2017-03-31', '2696'),\n",
                            " ('2016-12-31', '2285'),\n",
                            " ('2016-09-30', '2298'),\n",
                            " ('2016-06-30', '1270'),\n",
                            " ('2016-03-31', '1147'),\n",
                            " ('2015-12-31', '1214'),\n",
                            " ('2015-09-30', '937'),\n",
                            " ('2015-06-30', '955'),\n",
                            " ('2015-03-31', '940'),\n",
                            " ('2014-12-31', '957'),\n",
                            " ('2014-09-30', '852'),\n",
                            " ('2014-06-30', '769'),\n",
                            " ('2014-03-31', '621'),\n",
                            " ('2013-12-31', '615'),\n",
                            " ('2013-09-30', '431'),\n",
                            " ('2013-06-30', '405'),\n",
                            " ('2013-03-31', '562'),\n",
                            " ('2012-12-31', '306'),\n",
                            " ('2012-09-30', '50'),\n",
                            " ('2012-06-30', '27'),\n",
                            " ('2012-03-31', '30'),\n",
                            " ('2011-12-31', '39'),\n",
                            " ('2011-09-30', '58'),\n",
                            " ('2011-06-30', '58'),\n",
                            " ('2011-03-31', '49'),\n",
                            " ('2010-12-31', '36'),\n",
                            " ('2010-09-30', '31'),\n",
                            " ('2010-06-30', '28'),\n",
                            " ('2010-03-31', '21'),\n",
                            " ('2009-09-30', '46'),\n",
                            " ('2009-06-30', '27')]"
                        ]
                    },
                    "execution_count": 5,
                    "metadata": {},
                    "output_type": "execute_result"
                }
            ],
            "source": [
                "import sqlite3\n",
                "\n",
                "records = tesla_revenue.to_records(index=False)\n",
                "datatuples = list(records)\n",
                "datatuples"
            ]
        },
        {
            "attachments": {},
            "cell_type": "markdown",
            "metadata": {},
            "source": [
                "### Connect to SQL, Create a new .db and create a Table for the Data"
            ]
        },
        {
            "cell_type": "code",
            "execution_count": 6,
            "metadata": {},
            "outputs": [],
            "source": [
                "con = sqlite3.connect('Tesla.db')\n",
                "\n",
                "cur = con.cursor()\n",
                "\n",
                "cur.execute(\"CREATE TABLE IF NOT EXISTS Tesla (Date, Revenue)\")\n",
                "\n",
                "cur.executemany(\"INSERT INTO Tesla VALUES (?, ?)\", datatuples)\n",
                "\n",
                "con.commit()\n",
                "\n"
            ]
        },
        {
            "attachments": {},
            "cell_type": "markdown",
            "metadata": {},
            "source": [
                "### Retrieve Data from the Table\n"
            ]
        },
        {
            "cell_type": "code",
            "execution_count": 7,
            "metadata": {},
            "outputs": [
                {
                    "name": "stdout",
                    "output_type": "stream",
                    "text": [
                        "('2022-03-31', '18756')\n",
                        "('2021-12-31', '17719')\n",
                        "('2021-09-30', '13757')\n",
                        "('2021-06-30', '11958')\n",
                        "('2021-03-31', '10389')\n",
                        "('2020-12-31', '10744')\n",
                        "('2020-09-30', '8771')\n",
                        "('2020-06-30', '6036')\n",
                        "('2020-03-31', '5985')\n",
                        "('2019-12-31', '7384')\n",
                        "('2019-09-30', '6303')\n",
                        "('2019-06-30', '6350')\n",
                        "('2019-03-31', '4541')\n",
                        "('2018-12-31', '7226')\n",
                        "('2018-09-30', '6824')\n",
                        "('2018-06-30', '4002')\n",
                        "('2018-03-31', '3409')\n",
                        "('2017-12-31', '3288')\n",
                        "('2017-09-30', '2985')\n",
                        "('2017-06-30', '2790')\n",
                        "('2017-03-31', '2696')\n",
                        "('2016-12-31', '2285')\n",
                        "('2016-09-30', '2298')\n",
                        "('2016-06-30', '1270')\n",
                        "('2016-03-31', '1147')\n",
                        "('2015-12-31', '1214')\n",
                        "('2015-09-30', '937')\n",
                        "('2015-06-30', '955')\n",
                        "('2015-03-31', '940')\n",
                        "('2014-12-31', '957')\n",
                        "('2014-09-30', '852')\n",
                        "('2014-06-30', '769')\n",
                        "('2014-03-31', '621')\n",
                        "('2013-12-31', '615')\n",
                        "('2013-09-30', '431')\n",
                        "('2013-06-30', '405')\n",
                        "('2013-03-31', '562')\n",
                        "('2012-12-31', '306')\n",
                        "('2012-09-30', '50')\n",
                        "('2012-06-30', '27')\n",
                        "('2012-03-31', '30')\n",
                        "('2011-12-31', '39')\n",
                        "('2011-09-30', '58')\n",
                        "('2011-06-30', '58')\n",
                        "('2011-03-31', '49')\n",
                        "('2010-12-31', '36')\n",
                        "('2010-09-30', '31')\n",
                        "('2010-06-30', '28')\n",
                        "('2010-03-31', '21')\n",
                        "('2009-09-30', '46')\n",
                        "('2009-06-30', '27')\n",
                        "('2022-03-31', '18756')\n",
                        "('2021-12-31', '17719')\n",
                        "('2021-09-30', '13757')\n",
                        "('2021-06-30', '11958')\n",
                        "('2021-03-31', '10389')\n",
                        "('2020-12-31', '10744')\n",
                        "('2020-09-30', '8771')\n",
                        "('2020-06-30', '6036')\n",
                        "('2020-03-31', '5985')\n",
                        "('2019-12-31', '7384')\n",
                        "('2019-09-30', '6303')\n",
                        "('2019-06-30', '6350')\n",
                        "('2019-03-31', '4541')\n",
                        "('2018-12-31', '7226')\n",
                        "('2018-09-30', '6824')\n",
                        "('2018-06-30', '4002')\n",
                        "('2018-03-31', '3409')\n",
                        "('2017-12-31', '3288')\n",
                        "('2017-09-30', '2985')\n",
                        "('2017-06-30', '2790')\n",
                        "('2017-03-31', '2696')\n",
                        "('2016-12-31', '2285')\n",
                        "('2016-09-30', '2298')\n",
                        "('2016-06-30', '1270')\n",
                        "('2016-03-31', '1147')\n",
                        "('2015-12-31', '1214')\n",
                        "('2015-09-30', '937')\n",
                        "('2015-06-30', '955')\n",
                        "('2015-03-31', '940')\n",
                        "('2014-12-31', '957')\n",
                        "('2014-09-30', '852')\n",
                        "('2014-06-30', '769')\n",
                        "('2014-03-31', '621')\n",
                        "('2013-12-31', '615')\n",
                        "('2013-09-30', '431')\n",
                        "('2013-06-30', '405')\n",
                        "('2013-03-31', '562')\n",
                        "('2012-12-31', '306')\n",
                        "('2012-09-30', '50')\n",
                        "('2012-06-30', '27')\n",
                        "('2012-03-31', '30')\n",
                        "('2011-12-31', '39')\n",
                        "('2011-09-30', '58')\n",
                        "('2011-06-30', '58')\n",
                        "('2011-03-31', '49')\n",
                        "('2010-12-31', '36')\n",
                        "('2010-09-30', '31')\n",
                        "('2010-06-30', '28')\n",
                        "('2010-03-31', '21')\n",
                        "('2009-09-30', '46')\n",
                        "('2009-06-30', '27')\n"
                    ]
                }
            ],
            "source": [
                "for row in cur.execute('SELECT * FROM Tesla'):\n",
                "    print(row)"
            ]
        },
        {
            "attachments": {},
            "cell_type": "markdown",
            "metadata": {},
            "source": [
                "### Plot a graphic"
            ]
        },
        {
            "cell_type": "code",
            "execution_count": 21,
            "metadata": {},
            "outputs": [
                {
                    "data": {
                        "image/png": "[encoded data removed]",
                        "text/plain": [
                            "<Figure size 1200x800 with 1 Axes>"
                        ]
                    },
                    "metadata": {},
                    "output_type": "display_data"
                }
            ],
            "source": [
                "import seaborn as sns\n",
                "import matplotlib.pyplot as plt\n",
                "\n",
                "# Sort the Data \n",
                "tesla_revenue['Revenue'] = tesla_revenue['Revenue'].astype(int)\n",
                "\n",
                "# Create the plot using Seaborn\n",
                "plt.figure(figsize=(12, 8))\n",
                "sns.lineplot(data=tesla_revenue, x='Date', y='Revenue')\n",
                "\n",
                "# Set the plot title and labels\n",
                "plt.title('Tesla Revenue Over Time')\n",
                "plt.xlabel('Date')\n",
                "plt.ylabel('Revenue')\n",
                "\n",
                "# Reverse the order of the x-axis\n",
                "plt.gca().invert_xaxis()\n",
                "\n",
                "# Rotate x-axis labels for better readability\n",
                "plt.xticks(rotation=45)\n",
                "\n",
                "# Display the plot\n",
                "plt.show()"
            ]
        }
    ],
    "metadata": {
        "kernelspec": {
            "display_name": "Python 3.8.13 64-bit ('3.8.13')",
            "language": "python",
            "name": "python3"
        },
        "language_info": {
            "codemirror_mode": {
                "name": "ipython",
                "version": 3
            },
            "file_extension": ".py",
            "mimetype": "text/x-python",
            "name": "python",
            "nbconvert_exporter": "python",
            "pygments_lexer": "ipython3",
            "version": "3.10.8"
        },
        "orig_nbformat": 4,
        "vscode": {
            "interpreter": {
                "hash": "110cc1dee26208153f2972f08a2ad52b6a56238dc66d48e87fb757ef2996db56"
            }
        }
    },
    "nbformat": 4,
    "nbformat_minor": 2
}
